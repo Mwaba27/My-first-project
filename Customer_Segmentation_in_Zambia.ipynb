{
  "nbformat": 4,
  "nbformat_minor": 0,
  "metadata": {
    "colab": {
      "provenance": [],
      "authorship_tag": "ABX9TyNEbL5dISC6GfXm4w4W6D/T",
      "include_colab_link": true
    },
    "kernelspec": {
      "name": "python3",
      "display_name": "Python 3"
    },
    "language_info": {
      "name": "python"
    }
  },
  "cells": [
    {
      "cell_type": "markdown",
      "metadata": {
        "id": "view-in-github",
        "colab_type": "text"
      },
      "source": [
        "<a href=\"https://colab.research.google.com/github/Mwaba27/My-first-project/blob/main/Customer_Segmentation_in_Zambia.ipynb\" target=\"_parent\"><img src=\"https://colab.research.google.com/assets/colab-badge.svg\" alt=\"Open In Colab\"/></a>"
      ]
    },
    {
      "cell_type": "markdown",
      "source": [
        "#**Data Preparation**"
      ],
      "metadata": {
        "id": "0awCcntW0s2P"
      }
    },
    {
      "cell_type": "code",
      "execution_count": null,
      "metadata": {
        "colab": {
          "base_uri": "https://localhost:8080/",
          "height": 330
        },
        "id": "m-8elx8w0Swg",
        "outputId": "81ddae2a-da1a-45ed-ff44-b49efdec7163"
      },
      "outputs": [
        {
          "output_type": "execute_result",
          "data": {
            "text/plain": [
              "         Age  Gender Education Level Marital Status         Income  \\\n",
              "0  12.692154  Female        Tertiary        Married   38128.400234   \n",
              "1   8.056657    Male       Secondary        Widowed  131176.228900   \n",
              "2  10.540147  Female        Tertiary         Single    1585.329100   \n",
              "3  19.703166    Male        Tertiary       Divorced    6387.853928   \n",
              "4  29.207162  Female       Secondary        Widowed   41205.760843   \n",
              "\n",
              "      Occupation Urban/Rural Housing Type Spending Habits  \\\n",
              "0    Agriculture       Rural  Traditional    High Spender   \n",
              "1  Manufacturing       Urban  Traditional    High Spender   \n",
              "2    Agriculture       Rural          Own    High Spender   \n",
              "3       Services       Rural          Own     Low Spender   \n",
              "4  Manufacturing       Rural          Own  Medium Spender   \n",
              "\n",
              "       Brand Preference  \n",
              "0  International Brands  \n",
              "1                 Mixed  \n",
              "2                 Mixed  \n",
              "3          Local Brands  \n",
              "4          Local Brands  "
            ],
            "text/html": [
              "\n",
              "  <div id=\"df-f2667f13-187b-4807-a38e-a2a2b35eae88\" class=\"colab-df-container\">\n",
              "    <div>\n",
              "<style scoped>\n",
              "    .dataframe tbody tr th:only-of-type {\n",
              "        vertical-align: middle;\n",
              "    }\n",
              "\n",
              "    .dataframe tbody tr th {\n",
              "        vertical-align: top;\n",
              "    }\n",
              "\n",
              "    .dataframe thead th {\n",
              "        text-align: right;\n",
              "    }\n",
              "</style>\n",
              "<table border=\"1\" class=\"dataframe\">\n",
              "  <thead>\n",
              "    <tr style=\"text-align: right;\">\n",
              "      <th></th>\n",
              "      <th>Age</th>\n",
              "      <th>Gender</th>\n",
              "      <th>Education Level</th>\n",
              "      <th>Marital Status</th>\n",
              "      <th>Income</th>\n",
              "      <th>Occupation</th>\n",
              "      <th>Urban/Rural</th>\n",
              "      <th>Housing Type</th>\n",
              "      <th>Spending Habits</th>\n",
              "      <th>Brand Preference</th>\n",
              "    </tr>\n",
              "  </thead>\n",
              "  <tbody>\n",
              "    <tr>\n",
              "      <th>0</th>\n",
              "      <td>12.692154</td>\n",
              "      <td>Female</td>\n",
              "      <td>Tertiary</td>\n",
              "      <td>Married</td>\n",
              "      <td>38128.400234</td>\n",
              "      <td>Agriculture</td>\n",
              "      <td>Rural</td>\n",
              "      <td>Traditional</td>\n",
              "      <td>High Spender</td>\n",
              "      <td>International Brands</td>\n",
              "    </tr>\n",
              "    <tr>\n",
              "      <th>1</th>\n",
              "      <td>8.056657</td>\n",
              "      <td>Male</td>\n",
              "      <td>Secondary</td>\n",
              "      <td>Widowed</td>\n",
              "      <td>131176.228900</td>\n",
              "      <td>Manufacturing</td>\n",
              "      <td>Urban</td>\n",
              "      <td>Traditional</td>\n",
              "      <td>High Spender</td>\n",
              "      <td>Mixed</td>\n",
              "    </tr>\n",
              "    <tr>\n",
              "      <th>2</th>\n",
              "      <td>10.540147</td>\n",
              "      <td>Female</td>\n",
              "      <td>Tertiary</td>\n",
              "      <td>Single</td>\n",
              "      <td>1585.329100</td>\n",
              "      <td>Agriculture</td>\n",
              "      <td>Rural</td>\n",
              "      <td>Own</td>\n",
              "      <td>High Spender</td>\n",
              "      <td>Mixed</td>\n",
              "    </tr>\n",
              "    <tr>\n",
              "      <th>3</th>\n",
              "      <td>19.703166</td>\n",
              "      <td>Male</td>\n",
              "      <td>Tertiary</td>\n",
              "      <td>Divorced</td>\n",
              "      <td>6387.853928</td>\n",
              "      <td>Services</td>\n",
              "      <td>Rural</td>\n",
              "      <td>Own</td>\n",
              "      <td>Low Spender</td>\n",
              "      <td>Local Brands</td>\n",
              "    </tr>\n",
              "    <tr>\n",
              "      <th>4</th>\n",
              "      <td>29.207162</td>\n",
              "      <td>Female</td>\n",
              "      <td>Secondary</td>\n",
              "      <td>Widowed</td>\n",
              "      <td>41205.760843</td>\n",
              "      <td>Manufacturing</td>\n",
              "      <td>Rural</td>\n",
              "      <td>Own</td>\n",
              "      <td>Medium Spender</td>\n",
              "      <td>Local Brands</td>\n",
              "    </tr>\n",
              "  </tbody>\n",
              "</table>\n",
              "</div>\n",
              "    <div class=\"colab-df-buttons\">\n",
              "\n",
              "  <div class=\"colab-df-container\">\n",
              "    <button class=\"colab-df-convert\" onclick=\"convertToInteractive('df-f2667f13-187b-4807-a38e-a2a2b35eae88')\"\n",
              "            title=\"Convert this dataframe to an interactive table.\"\n",
              "            style=\"display:none;\">\n",
              "\n",
              "  <svg xmlns=\"http://www.w3.org/2000/svg\" height=\"24px\" viewBox=\"0 -960 960 960\">\n",
              "    <path d=\"M120-120v-720h720v720H120Zm60-500h600v-160H180v160Zm220 220h160v-160H400v160Zm0 220h160v-160H400v160ZM180-400h160v-160H180v160Zm440 0h160v-160H620v160ZM180-180h160v-160H180v160Zm440 0h160v-160H620v160Z\"/>\n",
              "  </svg>\n",
              "    </button>\n",
              "\n",
              "  <style>\n",
              "    .colab-df-container {\n",
              "      display:flex;\n",
              "      gap: 12px;\n",
              "    }\n",
              "\n",
              "    .colab-df-convert {\n",
              "      background-color: #E8F0FE;\n",
              "      border: none;\n",
              "      border-radius: 50%;\n",
              "      cursor: pointer;\n",
              "      display: none;\n",
              "      fill: #1967D2;\n",
              "      height: 32px;\n",
              "      padding: 0 0 0 0;\n",
              "      width: 32px;\n",
              "    }\n",
              "\n",
              "    .colab-df-convert:hover {\n",
              "      background-color: #E2EBFA;\n",
              "      box-shadow: 0px 1px 2px rgba(60, 64, 67, 0.3), 0px 1px 3px 1px rgba(60, 64, 67, 0.15);\n",
              "      fill: #174EA6;\n",
              "    }\n",
              "\n",
              "    .colab-df-buttons div {\n",
              "      margin-bottom: 4px;\n",
              "    }\n",
              "\n",
              "    [theme=dark] .colab-df-convert {\n",
              "      background-color: #3B4455;\n",
              "      fill: #D2E3FC;\n",
              "    }\n",
              "\n",
              "    [theme=dark] .colab-df-convert:hover {\n",
              "      background-color: #434B5C;\n",
              "      box-shadow: 0px 1px 3px 1px rgba(0, 0, 0, 0.15);\n",
              "      filter: drop-shadow(0px 1px 2px rgba(0, 0, 0, 0.3));\n",
              "      fill: #FFFFFF;\n",
              "    }\n",
              "  </style>\n",
              "\n",
              "    <script>\n",
              "      const buttonEl =\n",
              "        document.querySelector('#df-f2667f13-187b-4807-a38e-a2a2b35eae88 button.colab-df-convert');\n",
              "      buttonEl.style.display =\n",
              "        google.colab.kernel.accessAllowed ? 'block' : 'none';\n",
              "\n",
              "      async function convertToInteractive(key) {\n",
              "        const element = document.querySelector('#df-f2667f13-187b-4807-a38e-a2a2b35eae88');\n",
              "        const dataTable =\n",
              "          await google.colab.kernel.invokeFunction('convertToInteractive',\n",
              "                                                    [key], {});\n",
              "        if (!dataTable) return;\n",
              "\n",
              "        const docLinkHtml = 'Like what you see? Visit the ' +\n",
              "          '<a target=\"_blank\" href=https://colab.research.google.com/notebooks/data_table.ipynb>data table notebook</a>'\n",
              "          + ' to learn more about interactive tables.';\n",
              "        element.innerHTML = '';\n",
              "        dataTable['output_type'] = 'display_data';\n",
              "        await google.colab.output.renderOutput(dataTable, element);\n",
              "        const docLink = document.createElement('div');\n",
              "        docLink.innerHTML = docLinkHtml;\n",
              "        element.appendChild(docLink);\n",
              "      }\n",
              "    </script>\n",
              "  </div>\n",
              "\n",
              "\n",
              "<div id=\"df-a6912b16-1e8c-452e-ab16-08919e395ea9\">\n",
              "  <button class=\"colab-df-quickchart\" onclick=\"quickchart('df-a6912b16-1e8c-452e-ab16-08919e395ea9')\"\n",
              "            title=\"Suggest charts\"\n",
              "            style=\"display:none;\">\n",
              "\n",
              "<svg xmlns=\"http://www.w3.org/2000/svg\" height=\"24px\"viewBox=\"0 0 24 24\"\n",
              "     width=\"24px\">\n",
              "    <g>\n",
              "        <path d=\"M19 3H5c-1.1 0-2 .9-2 2v14c0 1.1.9 2 2 2h14c1.1 0 2-.9 2-2V5c0-1.1-.9-2-2-2zM9 17H7v-7h2v7zm4 0h-2V7h2v10zm4 0h-2v-4h2v4z\"/>\n",
              "    </g>\n",
              "</svg>\n",
              "  </button>\n",
              "\n",
              "<style>\n",
              "  .colab-df-quickchart {\n",
              "      --bg-color: #E8F0FE;\n",
              "      --fill-color: #1967D2;\n",
              "      --hover-bg-color: #E2EBFA;\n",
              "      --hover-fill-color: #174EA6;\n",
              "      --disabled-fill-color: #AAA;\n",
              "      --disabled-bg-color: #DDD;\n",
              "  }\n",
              "\n",
              "  [theme=dark] .colab-df-quickchart {\n",
              "      --bg-color: #3B4455;\n",
              "      --fill-color: #D2E3FC;\n",
              "      --hover-bg-color: #434B5C;\n",
              "      --hover-fill-color: #FFFFFF;\n",
              "      --disabled-bg-color: #3B4455;\n",
              "      --disabled-fill-color: #666;\n",
              "  }\n",
              "\n",
              "  .colab-df-quickchart {\n",
              "    background-color: var(--bg-color);\n",
              "    border: none;\n",
              "    border-radius: 50%;\n",
              "    cursor: pointer;\n",
              "    display: none;\n",
              "    fill: var(--fill-color);\n",
              "    height: 32px;\n",
              "    padding: 0;\n",
              "    width: 32px;\n",
              "  }\n",
              "\n",
              "  .colab-df-quickchart:hover {\n",
              "    background-color: var(--hover-bg-color);\n",
              "    box-shadow: 0 1px 2px rgba(60, 64, 67, 0.3), 0 1px 3px 1px rgba(60, 64, 67, 0.15);\n",
              "    fill: var(--button-hover-fill-color);\n",
              "  }\n",
              "\n",
              "  .colab-df-quickchart-complete:disabled,\n",
              "  .colab-df-quickchart-complete:disabled:hover {\n",
              "    background-color: var(--disabled-bg-color);\n",
              "    fill: var(--disabled-fill-color);\n",
              "    box-shadow: none;\n",
              "  }\n",
              "\n",
              "  .colab-df-spinner {\n",
              "    border: 2px solid var(--fill-color);\n",
              "    border-color: transparent;\n",
              "    border-bottom-color: var(--fill-color);\n",
              "    animation:\n",
              "      spin 1s steps(1) infinite;\n",
              "  }\n",
              "\n",
              "  @keyframes spin {\n",
              "    0% {\n",
              "      border-color: transparent;\n",
              "      border-bottom-color: var(--fill-color);\n",
              "      border-left-color: var(--fill-color);\n",
              "    }\n",
              "    20% {\n",
              "      border-color: transparent;\n",
              "      border-left-color: var(--fill-color);\n",
              "      border-top-color: var(--fill-color);\n",
              "    }\n",
              "    30% {\n",
              "      border-color: transparent;\n",
              "      border-left-color: var(--fill-color);\n",
              "      border-top-color: var(--fill-color);\n",
              "      border-right-color: var(--fill-color);\n",
              "    }\n",
              "    40% {\n",
              "      border-color: transparent;\n",
              "      border-right-color: var(--fill-color);\n",
              "      border-top-color: var(--fill-color);\n",
              "    }\n",
              "    60% {\n",
              "      border-color: transparent;\n",
              "      border-right-color: var(--fill-color);\n",
              "    }\n",
              "    80% {\n",
              "      border-color: transparent;\n",
              "      border-right-color: var(--fill-color);\n",
              "      border-bottom-color: var(--fill-color);\n",
              "    }\n",
              "    90% {\n",
              "      border-color: transparent;\n",
              "      border-bottom-color: var(--fill-color);\n",
              "    }\n",
              "  }\n",
              "</style>\n",
              "\n",
              "  <script>\n",
              "    async function quickchart(key) {\n",
              "      const quickchartButtonEl =\n",
              "        document.querySelector('#' + key + ' button');\n",
              "      quickchartButtonEl.disabled = true;  // To prevent multiple clicks.\n",
              "      quickchartButtonEl.classList.add('colab-df-spinner');\n",
              "      try {\n",
              "        const charts = await google.colab.kernel.invokeFunction(\n",
              "            'suggestCharts', [key], {});\n",
              "      } catch (error) {\n",
              "        console.error('Error during call to suggestCharts:', error);\n",
              "      }\n",
              "      quickchartButtonEl.classList.remove('colab-df-spinner');\n",
              "      quickchartButtonEl.classList.add('colab-df-quickchart-complete');\n",
              "    }\n",
              "    (() => {\n",
              "      let quickchartButtonEl =\n",
              "        document.querySelector('#df-a6912b16-1e8c-452e-ab16-08919e395ea9 button');\n",
              "      quickchartButtonEl.style.display =\n",
              "        google.colab.kernel.accessAllowed ? 'block' : 'none';\n",
              "    })();\n",
              "  </script>\n",
              "</div>\n",
              "\n",
              "    </div>\n",
              "  </div>\n"
            ],
            "application/vnd.google.colaboratory.intrinsic+json": {
              "type": "dataframe",
              "variable_name": "data",
              "summary": "{\n  \"name\": \"data\",\n  \"rows\": 10000,\n  \"fields\": [\n    {\n      \"column\": \"Age\",\n      \"properties\": {\n        \"dtype\": \"number\",\n        \"std\": 9.987874981139065,\n        \"min\": -11.095221582287508,\n        \"max\": 67.33901834624672,\n        \"num_unique_values\": 10000,\n        \"samples\": [\n          20.910185006195242,\n          32.33661180980537,\n          26.235632037454003\n        ],\n        \"semantic_type\": \"\",\n        \"description\": \"\"\n      }\n    },\n    {\n      \"column\": \"Gender\",\n      \"properties\": {\n        \"dtype\": \"category\",\n        \"num_unique_values\": 2,\n        \"samples\": [\n          \"Male\",\n          \"Female\"\n        ],\n        \"semantic_type\": \"\",\n        \"description\": \"\"\n      }\n    },\n    {\n      \"column\": \"Education Level\",\n      \"properties\": {\n        \"dtype\": \"category\",\n        \"num_unique_values\": 3,\n        \"samples\": [\n          \"Tertiary\",\n          \"Secondary\"\n        ],\n        \"semantic_type\": \"\",\n        \"description\": \"\"\n      }\n    },\n    {\n      \"column\": \"Marital Status\",\n      \"properties\": {\n        \"dtype\": \"category\",\n        \"num_unique_values\": 4,\n        \"samples\": [\n          \"Widowed\",\n          \"Divorced\"\n        ],\n        \"semantic_type\": \"\",\n        \"description\": \"\"\n      }\n    },\n    {\n      \"column\": \"Income\",\n      \"properties\": {\n        \"dtype\": \"number\",\n        \"std\": 1201629.5462150972,\n        \"min\": 18.56725350892647,\n        \"max\": 86605536.17345281,\n        \"num_unique_values\": 10000,\n        \"samples\": [\n          4395.811566858083,\n          15993.342935702474\n        ],\n        \"semantic_type\": \"\",\n        \"description\": \"\"\n      }\n    },\n    {\n      \"column\": \"Occupation\",\n      \"properties\": {\n        \"dtype\": \"category\",\n        \"num_unique_values\": 4,\n        \"samples\": [\n          \"Manufacturing\",\n          \"Government\"\n        ],\n        \"semantic_type\": \"\",\n        \"description\": \"\"\n      }\n    },\n    {\n      \"column\": \"Urban/Rural\",\n      \"properties\": {\n        \"dtype\": \"category\",\n        \"num_unique_values\": 2,\n        \"samples\": [\n          \"Urban\",\n          \"Rural\"\n        ],\n        \"semantic_type\": \"\",\n        \"description\": \"\"\n      }\n    },\n    {\n      \"column\": \"Housing Type\",\n      \"properties\": {\n        \"dtype\": \"category\",\n        \"num_unique_values\": 3,\n        \"samples\": [\n          \"Traditional\",\n          \"Own\"\n        ],\n        \"semantic_type\": \"\",\n        \"description\": \"\"\n      }\n    },\n    {\n      \"column\": \"Spending Habits\",\n      \"properties\": {\n        \"dtype\": \"category\",\n        \"num_unique_values\": 3,\n        \"samples\": [\n          \"High Spender\",\n          \"Low Spender\"\n        ],\n        \"semantic_type\": \"\",\n        \"description\": \"\"\n      }\n    },\n    {\n      \"column\": \"Brand Preference\",\n      \"properties\": {\n        \"dtype\": \"category\",\n        \"num_unique_values\": 3,\n        \"samples\": [\n          \"International Brands\",\n          \"Mixed\"\n        ],\n        \"semantic_type\": \"\",\n        \"description\": \"\"\n      }\n    }\n  ]\n}"
            }
          },
          "metadata": {},
          "execution_count": 7
        }
      ],
      "source": [
        "import numpy as np\n",
        "import pandas as pd\n",
        "\n",
        "# Generate demographic features\n",
        "num_data_points = 10000\n",
        "age = np.random.normal(loc=30, scale=10, size=num_data_points)\n",
        "gender = np.random.choice(['Male', 'Female'], size=num_data_points)\n",
        "education_level = np.random.choice(['Primary', 'Secondary', 'Tertiary'], size=num_data_points)\n",
        "marital_status = np.random.choice(['Single', 'Married', 'Divorced', 'Widowed'], size=num_data_points)\n",
        "\n",
        "# Generate socio-economic features\n",
        "income = np.random.lognormal(mean=10, sigma=2, size=num_data_points)\n",
        "occupation = np.random.choice(['Agriculture', 'Manufacturing', 'Services', 'Government'], size=num_data_points)\n",
        "urban_rural = np.random.choice(['Urban', 'Rural'], size=num_data_points, p=[0.3, 0.7])  # Adjust probabilities based on Zambia's demographics\n",
        "housing_type = np.random.choice(['Own', 'Rent', 'Traditional'], size=num_data_points)\n",
        "\n",
        "# Generate behavioral features\n",
        "spending_habits = np.random.choice(['High Spender', 'Medium Spender', 'Low Spender'], size=num_data_points)\n",
        "brand_preference = np.random.choice(['Local Brands', 'International Brands', 'Mixed'], size=num_data_points)\n",
        "\n",
        "# Create a pandas DataFrame\n",
        "data = pd.DataFrame({'Age': age, 'Gender': gender, 'Education Level': education_level,\n",
        "                     'Marital Status': marital_status, 'Income': income, 'Occupation': occupation,\n",
        "                     'Urban/Rural': urban_rural, 'Housing Type': housing_type,\n",
        "                     'Spending Habits': spending_habits, 'Brand Preference': brand_preference})\n",
        "\n",
        "# Print the dataset\n",
        "data.head()"
      ]
    },
    {
      "source": [
        "import numpy as np\n",
        "import pandas as pd\n",
        "from sklearn.preprocessing import StandardScaler\n",
        "\n",
        "# Your existing code to generate the DataFrame 'data' goes here\n",
        "\n",
        "# One-hot encode categorical columns\n",
        "categorical_cols = ['Gender', 'Education Level', 'Marital Status', 'Occupation', 'Urban/Rural', 'Housing Type', 'Spending Habits', 'Brand Preference']\n",
        "data_encoded = pd.get_dummies(data, columns=categorical_cols)\n",
        "\n",
        "# Apply StandardScaler to the encoded data\n",
        "scaler = StandardScaler()\n",
        "scaled_data = scaler.fit_transform(data_encoded)\n",
        "\n",
        "# Print the first few rows of the scaled data (optional)\n",
        "print(scaled_data[:5])"
      ],
      "cell_type": "code",
      "metadata": {
        "colab": {
          "base_uri": "https://localhost:8080/"
        },
        "id": "ipxbmfbw8TJ6",
        "outputId": "b32d4eef-caff-4324-edac-17adc7b8c9e9"
      },
      "execution_count": null,
      "outputs": [
        {
          "output_type": "stream",
          "name": "stdout",
          "text": [
            "[[-1.72478472 -0.10789713  1.00722611 -1.00722611 -0.70578137 -0.70896375\n",
            "   1.41527489 -0.57858195  1.75072575 -0.57627255 -0.58335487  1.74978239\n",
            "  -0.59413541 -0.56811207 -0.5756567   0.65527721 -0.65527721 -0.71135371\n",
            "  -0.70181003  1.41209489  1.42392089 -0.71678125 -0.7022862   1.41655023\n",
            "  -0.71406567 -0.70133395]\n",
            " [-2.18892043 -0.03045855 -0.99282573  0.99282573 -0.70578137  1.41050935\n",
            "  -0.70657652 -0.57858195 -0.57119169 -0.57627255  1.71422241 -0.57149964\n",
            "  -0.59413541  1.76021608 -0.5756567  -1.52607169  1.52607169 -0.71135371\n",
            "  -0.70181003  1.41209489  1.42392089 -0.71678125 -0.7022862  -0.70594037\n",
            "  -0.71406567  1.42585426]\n",
            " [-1.94025743 -0.13830991  1.00722611 -1.00722611 -0.70578137 -0.70896375\n",
            "   1.41527489 -0.57858195 -0.57119169  1.73529002 -0.58335487  1.74978239\n",
            "  -0.59413541 -0.56811207 -0.5756567   0.65527721 -0.65527721  1.40577042\n",
            "  -0.70181003 -0.70816771  1.42392089 -0.71678125 -0.7022862  -0.70594037\n",
            "  -0.71406567  1.42585426]\n",
            " [-1.02279729 -0.13431304 -0.99282573  0.99282573 -0.70578137 -0.70896375\n",
            "   1.41527489  1.72836363 -0.57119169 -0.57627255 -0.58335487 -0.57149964\n",
            "  -0.59413541 -0.56811207  1.73714645  0.65527721 -0.65527721  1.40577042\n",
            "  -0.70181003 -0.70816771 -0.7022862   1.39512579 -0.7022862  -0.70594037\n",
            "   1.40043142 -0.70133395]\n",
            " [-0.07119643 -0.10533601  1.00722611 -1.00722611 -0.70578137  1.41050935\n",
            "  -0.70657652 -0.57858195 -0.57119169 -0.57627255  1.71422241 -0.57149964\n",
            "  -0.59413541  1.76021608 -0.5756567   0.65527721 -0.65527721  1.40577042\n",
            "  -0.70181003 -0.70816771 -0.7022862  -0.71678125  1.42392089 -0.70594037\n",
            "   1.40043142 -0.70133395]]\n"
          ]
        }
      ]
    },
    {
      "cell_type": "code",
      "source": [
        "from sklearn.decomposition import PCA\n",
        "\n",
        "pca = PCA(n_components=2)  # Reduce to 2 components for 2D plotting\n",
        "pca_data = pca.fit_transform(scaled_data)\n"
      ],
      "metadata": {
        "id": "ilGocYFv8kOa"
      },
      "execution_count": null,
      "outputs": []
    },
    {
      "cell_type": "code",
      "source": [
        "import matplotlib.pyplot as plt\n",
        "plt.plot(np.cumsum(pca.explained_variance_ratio_))\n",
        "plt.xlabel('Number of Components')\n",
        "plt.ylabel('Variance Explained')\n",
        "plt.show()\n"
      ],
      "metadata": {
        "colab": {
          "base_uri": "https://localhost:8080/",
          "height": 449
        },
        "id": "inYccDoL8xgQ",
        "outputId": "e5ab8553-6dbb-4bf1-e8c4-f9b63b9369e0"
      },
      "execution_count": null,
      "outputs": [
        {
          "output_type": "display_data",
          "data": {
            "text/plain": [
              "<Figure size 640x480 with 1 Axes>"
            ],
            "image/png": "[encoded data removed]"
          },
          "metadata": {}
        }
      ]
    },
    {
      "cell_type": "code",
      "source": [
        "from sklearn.cluster import KMeans\n",
        "import matplotlib.pyplot as plt\n",
        "\n",
        "distortions = []\n",
        "for k in range(1, 11):\n",
        "    kmeans = KMeans(n_clusters=k)\n",
        "    kmeans.fit(scaled_data)\n",
        "    distortions.append(kmeans.inertia_)\n",
        "\n",
        "plt.plot(range(1, 11), distortions, marker='o')\n",
        "plt.xlabel('Number of Clusters')\n",
        "plt.ylabel('Distortion')\n",
        "plt.show()\n"
      ],
      "metadata": {
        "colab": {
          "base_uri": "https://localhost:8080/",
          "height": 449
        },
        "id": "jdQjBu-f82w9",
        "outputId": "947f1b08-2c8e-4882-e71a-12484744fc1e"
      },
      "execution_count": null,
      "outputs": [
        {
          "output_type": "display_data",
          "data": {
            "text/plain": [
              "<Figure size 640x480 with 1 Axes>"
            ],
            "image/png": "[encoded data removed]"
          },
          "metadata": {}
        }
      ]
    },
    {
      "cell_type": "code",
      "source": [
        "kmeans = KMeans(n_clusters=4)  # Assuming 4 clusters\n",
        "clusters = kmeans.fit_predict(scaled_data)\n"
      ],
      "metadata": {
        "id": "72CKbC7H8-MA"
      },
      "execution_count": null,
      "outputs": []
    },
    {
      "cell_type": "code",
      "source": [
        "data['Cluster'] = clusters\n"
      ],
      "metadata": {
        "id": "AZ45uAVF9Ent"
      },
      "execution_count": null,
      "outputs": []
    },
    {
      "cell_type": "code",
      "source": [
        "plt.scatter(pca_data[:, 0], pca_data[:, 1], c=clusters, cmap='viridis')\n",
        "plt.xlabel('PCA 1')\n",
        "plt.ylabel('PCA 2')\n",
        "plt.title('Customer Segments')\n",
        "plt.colorbar()\n",
        "plt.show()\n"
      ],
      "metadata": {
        "colab": {
          "base_uri": "https://localhost:8080/",
          "height": 472
        },
        "id": "HL3EUeR69INn",
        "outputId": "3e55d8f1-fd97-46af-9752-94ae3ef684f3"
      },
      "execution_count": null,
      "outputs": [
        {
          "output_type": "display_data",
          "data": {
            "text/plain": [
              "<Figure size 640x480 with 2 Axes>"
            ],
            "image/png": "[encoded data removed]"
          },
          "metadata": {}
        }
      ]
    },
    {
      "cell_type": "code",
      "source": [
        "pip install dash\n"
      ],
      "metadata": {
        "colab": {
          "base_uri": "https://localhost:8080/"
        },
        "id": "u8c6GO7w9Lu8",
        "outputId": "cecae533-937a-49c0-9b64-2e5d02f52b2e"
      },
      "execution_count": null,
      "outputs": [
        {
          "output_type": "stream",
          "name": "stdout",
          "text": [
            "Collecting dash\n",
            "  Downloading dash-2.18.1-py3-none-any.whl.metadata (10 kB)\n",
            "Requirement already satisfied: Flask<3.1,>=1.0.4 in /usr/local/lib/python3.10/dist-packages (from dash) (2.2.5)\n",
            "Requirement already satisfied: Werkzeug<3.1 in /usr/local/lib/python3.10/dist-packages (from dash) (3.0.4)\n",
            "Requirement already satisfied: plotly>=5.0.0 in /usr/local/lib/python3.10/dist-packages (from dash) (5.24.1)\n",
            "Collecting dash-html-components==2.0.0 (from dash)\n",
            "  Downloading dash_html_components-2.0.0-py3-none-any.whl.metadata (3.8 kB)\n",
            "Collecting dash-core-components==2.0.0 (from dash)\n",
            "  Downloading dash_core_components-2.0.0-py3-none-any.whl.metadata (2.9 kB)\n",
            "Collecting dash-table==5.0.0 (from dash)\n",
            "  Downloading dash_table-5.0.0-py3-none-any.whl.metadata (2.4 kB)\n",
            "Requirement already satisfied: importlib-metadata in /usr/local/lib/python3.10/dist-packages (from dash) (8.5.0)\n",
            "Requirement already satisfied: typing-extensions>=4.1.1 in /usr/local/lib/python3.10/dist-packages (from dash) (4.12.2)\n",
            "Requirement already satisfied: requests in /usr/local/lib/python3.10/dist-packages (from dash) (2.32.3)\n",
            "Collecting retrying (from dash)\n",
            "  Downloading retrying-1.3.4-py3-none-any.whl.metadata (6.9 kB)\n",
            "Requirement already satisfied: nest-asyncio in /usr/local/lib/python3.10/dist-packages (from dash) (1.6.0)\n",
            "Requirement already satisfied: setuptools in /usr/local/lib/python3.10/dist-packages (from dash) (71.0.4)\n",
            "Requirement already satisfied: Jinja2>=3.0 in /usr/local/lib/python3.10/dist-packages (from Flask<3.1,>=1.0.4->dash) (3.1.4)\n",
            "Requirement already satisfied: itsdangerous>=2.0 in /usr/local/lib/python3.10/dist-packages (from Flask<3.1,>=1.0.4->dash) (2.2.0)\n",
            "Requirement already satisfied: click>=8.0 in /usr/local/lib/python3.10/dist-packages (from Flask<3.1,>=1.0.4->dash) (8.1.7)\n",
            "Requirement already satisfied: tenacity>=6.2.0 in /usr/local/lib/python3.10/dist-packages (from plotly>=5.0.0->dash) (9.0.0)\n",
            "Requirement already satisfied: packaging in /usr/local/lib/python3.10/dist-packages (from plotly>=5.0.0->dash) (24.1)\n",
            "Requirement already satisfied: MarkupSafe>=2.1.1 in /usr/local/lib/python3.10/dist-packages (from Werkzeug<3.1->dash) (3.0.1)\n",
            "Requirement already satisfied: zipp>=3.20 in /usr/local/lib/python3.10/dist-packages (from importlib-metadata->dash) (3.20.2)\n",
            "Requirement already satisfied: charset-normalizer<4,>=2 in /usr/local/lib/python3.10/dist-packages (from requests->dash) (3.4.0)\n",
            "Requirement already satisfied: idna<4,>=2.5 in /usr/local/lib/python3.10/dist-packages (from requests->dash) (3.10)\n",
            "Requirement already satisfied: urllib3<3,>=1.21.1 in /usr/local/lib/python3.10/dist-packages (from requests->dash) (2.2.3)\n",
            "Requirement already satisfied: certifi>=2017.4.17 in /usr/local/lib/python3.10/dist-packages (from requests->dash) (2024.8.30)\n",
            "Requirement already satisfied: six>=1.7.0 in /usr/local/lib/python3.10/dist-packages (from retrying->dash) (1.16.0)\n",
            "Downloading dash-2.18.1-py3-none-any.whl (7.5 MB)\n",
            "\u001b[2K   \u001b[90m━━━━━━━━━━━━━━━━━━━━━━━━━━━━━━━━━━━━━━━━\u001b[0m \u001b[32m7.5/7.5 MB\u001b[0m \u001b[31m48.2 MB/s\u001b[0m eta \u001b[36m0:00:00\u001b[0m\n",
            "\u001b[?25hDownloading dash_core_components-2.0.0-py3-none-any.whl (3.8 kB)\n",
            "Downloading dash_html_components-2.0.0-py3-none-any.whl (4.1 kB)\n",
            "Downloading dash_table-5.0.0-py3-none-any.whl (3.9 kB)\n",
            "Downloading retrying-1.3.4-py3-none-any.whl (11 kB)\n",
            "Installing collected packages: dash-table, dash-html-components, dash-core-components, retrying, dash\n",
            "Successfully installed dash-2.18.1 dash-core-components-2.0.0 dash-html-components-2.0.0 dash-table-5.0.0 retrying-1.3.4\n"
          ]
        }
      ]
    },
    {
      "cell_type": "code",
      "source": [
        "import dash\n",
        "from dash import dcc, html\n",
        "import plotly.express as px\n",
        "\n",
        "app = dash.Dash(__name__)\n",
        "\n",
        "fig = px.scatter(x=pca_data[:, 0], y=pca_data[:, 1], color=clusters, title=\"Customer Segments\",\n",
        "                 labels={'x': 'PCA 1', 'y': 'PCA 2'})\n",
        "\n",
        "app.layout = html.Div(children=[\n",
        "    html.H1(children='Customer Segmentation Dashboard'),\n",
        "\n",
        "    dcc.Graph(\n",
        "        id='cluster-graph',\n",
        "        figure=fig\n",
        "    )\n",
        "])\n",
        "\n",
        "if __name__ == '__main__':\n",
        "    app.run_server(debug=True)\n"
      ],
      "metadata": {
        "colab": {
          "base_uri": "https://localhost:8080/",
          "height": 671
        },
        "id": "rYV1BSh29U3E",
        "outputId": "beabc4b5-96ca-4541-97c6-4d4e3289c9c3"
      },
      "execution_count": 21,
      "outputs": [
        {
          "output_type": "display_data",
          "data": {
            "text/plain": [
              "<IPython.core.display.Javascript object>"
            ],
            "application/javascript": [
              "(async (port, path, width, height, cache, element) => {\n",
              "    if (!google.colab.kernel.accessAllowed && !cache) {\n",
              "      return;\n",
              "    }\n",
              "    element.appendChild(document.createTextNode(''));\n",
              "    const url = await google.colab.kernel.proxyPort(port, {cache});\n",
              "    const iframe = document.createElement('iframe');\n",
              "    iframe.src = new URL(path, url).toString();\n",
              "    iframe.height = height;\n",
              "    iframe.width = width;\n",
              "    iframe.style.border = 0;\n",
              "    iframe.allow = [\n",
              "        'accelerometer',\n",
              "        'autoplay',\n",
              "        'camera',\n",
              "        'clipboard-read',\n",
              "        'clipboard-write',\n",
              "        'gyroscope',\n",
              "        'magnetometer',\n",
              "        'microphone',\n",
              "        'serial',\n",
              "        'usb',\n",
              "        'xr-spatial-tracking',\n",
              "    ].join('; ');\n",
              "    element.appendChild(iframe);\n",
              "  })(8050, \"/\", \"100%\", 650, false, window.element)"
            ]
          },
          "metadata": {}
        }
      ]
    },
    {
      "cell_type": "code",
      "source": [],
      "metadata": {
        "id": "8rsm6x3v9dFr"
      },
      "execution_count": null,
      "outputs": []
    }
  ]
}